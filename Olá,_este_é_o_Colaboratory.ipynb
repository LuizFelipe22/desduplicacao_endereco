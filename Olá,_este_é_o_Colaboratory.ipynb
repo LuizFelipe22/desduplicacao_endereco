{
  "cells": [
    {
      "cell_type": "markdown",
      "metadata": {
        "id": "view-in-github",
        "colab_type": "text"
      },
      "source": [
        "<a href=\"https://colab.research.google.com/github/LuizFelipe22/desduplicacao_endereco/blob/main/Ol%C3%A1%2C_este_%C3%A9_o_Colaboratory.ipynb\" target=\"_parent\"><img src=\"https://colab.research.google.com/assets/colab-badge.svg\" alt=\"Open In Colab\"/></a>"
      ]
    },
    {
      "cell_type": "code",
      "source": [
        "import dedupe\n",
        "import pandas as pd\n",
        "import numpy as np"
      ],
      "metadata": {
        "id": "4UyWw2CcVM9l"
      },
      "execution_count": 1,
      "outputs": []
    },
    {
      "cell_type": "code",
      "source": [
        "endereco = pd.read_csv('arquivos/Deduplica_Endereco.csv', encoding='utf-8').replace(np.nan, None)\n",
        "\n",
        "endereco = endereco.loc[(endereco['rua'].notnull()) & (endereco['bairro'].notnull())]"
      ],
      "metadata": {
        "id": "DOwMSVFbVqkV"
      },
      "execution_count": 2,
      "outputs": []
    },
    {
      "cell_type": "code",
      "source": [
        "cep = pd.read_csv('arquivos/cep_tratado.csv', encoding='utf-8').replace(np.nan, None)\n",
        "\n",
        "cep_util = cep.rename(columns={'localidade': 'municipio', 'logradouroDNEC':'logradouro'})[['cep', 'logradouro', 'bairro', 'municipio']]"
      ],
      "metadata": {
        "id": "X2bG7ZEuVta7"
      },
      "execution_count": 3,
      "outputs": []
    },
    {
      "cell_type": "code",
      "source": [
        "iguais = []\n",
        "diferentes = []\n",
        "\n",
        "for z, i in endereco.iterrows():\n",
        "    if i['rua'] == 1.0 and i['bairro'] == 1.0:\n",
        "        igual = ({'logradouro': i['logradouro_1'], 'bairro': i['bairro_1'], 'municipio': i['municipio_1']},\n",
        "                 {'logradouro': i['logradouro_2'], 'bairro': i['bairro_2'], 'municipio': i['municipio_2']})\n",
        "        iguais.append(igual)\n",
        "    elif i['rua'] == 0.0 or i['bairro'] == 0.0:\n",
        "        diferente = ({'logradouro': i['logradouro_1'], 'bairro': i['bairro_1'], 'municipio': i['municipio_1']},\n",
        "                     {'logradouro': i['logradouro_2'], 'bairro': i['bairro_2'], 'municipio': i['municipio_2']})\n",
        "        diferentes.append(diferente)\n",
        "\n",
        "labeled_examples = {\n",
        "    \"match\": iguais,\n",
        "    \"distinct\": diferentes,\n",
        "}"
      ],
      "metadata": {
        "id": "Y5OnjaoAWJG7"
      },
      "execution_count": 4,
      "outputs": []
    },
    {
      "cell_type": "code",
      "source": [
        "df_1 = endereco[['logradouro_1', 'bairro_1','municipio_1']]\n",
        "df_2 = endereco[['logradouro_2', 'bairro_2','municipio_2']]\n",
        "\n",
        "df_1.columns = ['logradouro', 'bairro','municipio']\n",
        "df_2.columns = ['logradouro', 'bairro','municipio']\n",
        "df_1 = df_1.to_dict(orient='index')\n",
        "df_2 = df_2.to_dict(orient='index')"
      ],
      "metadata": {
        "id": "BA3NFxsBYxTs"
      },
      "execution_count": 5,
      "outputs": []
    },
    {
      "cell_type": "code",
      "source": [
        "variables = [\n",
        "    {'field' : 'logradouro', 'type': 'String', 'has missing':True},\n",
        "    {'field' : 'bairro', 'type': 'String', 'has missing':True},\n",
        "    {'field' : 'municipio', 'type': 'String', 'has missing':True}\n",
        "]\n",
        "\n",
        "\n",
        "deduper = dedupe.RecordLink(variables)"
      ],
      "metadata": {
        "id": "yqcYc7UHWO8R"
      },
      "execution_count": 6,
      "outputs": []
    },
    {
      "cell_type": "code",
      "source": [
        "deduper.mark_pairs(labeled_examples)"
      ],
      "metadata": {
        "id": "PKBm4GwvXeyh"
      },
      "execution_count": 7,
      "outputs": []
    },
    {
      "cell_type": "code",
      "source": [
        "with open('training.json', 'w') as f:\n",
        "    deduper.write_training(f)"
      ],
      "metadata": {
        "id": "AuwyxfFYXO6E"
      },
      "execution_count": 8,
      "outputs": []
    },
    {
      "cell_type": "code",
      "source": [
        "with open('training.json', 'r') as file:\n",
        "  deduper.prepare_training(df_1,df_2,training_file=file)"
      ],
      "metadata": {
        "id": "__0ZfQviX1cI"
      },
      "execution_count": 9,
      "outputs": []
    },
    {
      "cell_type": "code",
      "source": [
        "deduper.train(recall=0.9)"
      ],
      "metadata": {
        "id": "Fk0g9c4ubnpw"
      },
      "execution_count": null,
      "outputs": []
    }
  ],
  "metadata": {
    "colab": {
      "name": "Olá, este é o Colaboratory",
      "provenance": [],
      "include_colab_link": true
    },
    "kernelspec": {
      "display_name": "Python 3",
      "name": "python3"
    }
  },
  "nbformat": 4,
  "nbformat_minor": 0
}