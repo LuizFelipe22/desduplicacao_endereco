{
  "cells": [
    {
      "cell_type": "code",
      "execution_count": 32,
      "metadata": {
        "id": "4UyWw2CcVM9l"
      },
      "outputs": [],
      "source": [
        "import dedupe\n",
        "import pandas as pd\n",
        "import numpy as np"
      ]
    },
    {
      "cell_type": "code",
      "execution_count": 42,
      "metadata": {
        "id": "DOwMSVFbVqkV"
      },
      "outputs": [],
      "source": [
        "endereco = pd.read_csv('arquivos/Deduplica_Endereco.csv', encoding='utf-8').replace(np.nan, None)\n",
        "\n",
        "endereco = endereco.loc[(endereco['rua'].notnull()) & (endereco['bairro'].notnull())]"
      ]
    },
    {
      "cell_type": "code",
      "execution_count": null,
      "metadata": {},
      "outputs": [],
      "source": [
        "endereco.shape"
      ]
    },
    {
      "cell_type": "code",
      "execution_count": 34,
      "metadata": {
        "id": "Y5OnjaoAWJG7"
      },
      "outputs": [],
      "source": [
        "iguais = []\n",
        "diferentes = []\n",
        "\n",
        "for z, i in endereco.iterrows():\n",
        "    if i['rua'] == 1.0 and i['bairro'] == 1.0:\n",
        "        igual = ({'logradouro': i['logradouro_1'], 'bairro': i['bairro_1'], 'municipio': i['municipio_1']},\n",
        "                 {'logradouro': i['logradouro_2'], 'bairro': i['bairro_2'], 'municipio': i['municipio_2']})\n",
        "        iguais.append(igual)\n",
        "    elif i['rua'] == 0.0 or i['bairro'] == 0.0:\n",
        "        diferente = ({'logradouro': i['logradouro_1'], 'bairro': i['bairro_1'], 'municipio': i['municipio_1']},\n",
        "                     {'logradouro': i['logradouro_2'], 'bairro': i['bairro_2'], 'municipio': i['municipio_2']})\n",
        "        diferentes.append(diferente)\n",
        "\n",
        "labeled_examples = {\n",
        "    \"match\": iguais,\n",
        "    \"distinct\": diferentes,\n",
        "}"
      ]
    },
    {
      "cell_type": "code",
      "execution_count": 35,
      "metadata": {
        "id": "BA3NFxsBYxTs"
      },
      "outputs": [],
      "source": [
        "df_1 = endereco[['logradouro_1', 'bairro_1','municipio_1']]\n",
        "df_2 = endereco[['logradouro_2', 'bairro_2','municipio_2']]\n",
        "\n",
        "df_1.columns = ['logradouro', 'bairro','municipio']\n",
        "df_2.columns = ['logradouro', 'bairro','municipio']\n",
        "df_1 = df_1.to_dict(orient='index')\n",
        "df_2 = df_2.to_dict(orient='index')"
      ]
    },
    {
      "cell_type": "code",
      "execution_count": 36,
      "metadata": {
        "id": "yqcYc7UHWO8R"
      },
      "outputs": [],
      "source": [
        "variables = [\n",
        "    {'field' : 'logradouro', 'type': 'String', 'has missing':True},\n",
        "    {'field' : 'bairro', 'type': 'String', 'has missing':True},\n",
        "    {'field' : 'municipio', 'type': 'String', 'has missing':True}\n",
        "]\n",
        "\n",
        "\n",
        "deduper = dedupe.RecordLink(variables)"
      ]
    },
    {
      "cell_type": "code",
      "execution_count": 37,
      "metadata": {
        "id": "PKBm4GwvXeyh"
      },
      "outputs": [],
      "source": [
        "deduper.mark_pairs(labeled_examples)"
      ]
    },
    {
      "cell_type": "code",
      "execution_count": 38,
      "metadata": {
        "id": "AuwyxfFYXO6E"
      },
      "outputs": [],
      "source": [
        "with open('training.json', 'w') as f:\n",
        "    deduper.write_training(f)"
      ]
    },
    {
      "cell_type": "code",
      "execution_count": 39,
      "metadata": {
        "id": "__0ZfQviX1cI"
      },
      "outputs": [],
      "source": [
        "with open('training.json', 'r') as file:\n",
        "  deduper.prepare_training(df_1,df_2,training_file=file)"
      ]
    },
    {
      "cell_type": "code",
      "execution_count": 40,
      "metadata": {
        "id": "Fk0g9c4ubnpw"
      },
      "outputs": [],
      "source": [
        "deduper.train(recall=0.9)"
      ]
    },
    {
      "cell_type": "code",
      "execution_count": 41,
      "metadata": {},
      "outputs": [],
      "source": [
        "with open('learned_settings', 'wb') as f:\n",
        "    deduper.write_settings(f)"
      ]
    }
  ],
  "metadata": {
    "colab": {
      "include_colab_link": true,
      "name": "Olá, este é o Colaboratory",
      "provenance": []
    },
    "kernelspec": {
      "display_name": "Python 3",
      "name": "python3"
    },
    "language_info": {
      "codemirror_mode": {
        "name": "ipython",
        "version": 3
      },
      "file_extension": ".py",
      "mimetype": "text/x-python",
      "name": "python",
      "nbconvert_exporter": "python",
      "pygments_lexer": "ipython3",
      "version": "3.8.10"
    }
  },
  "nbformat": 4,
  "nbformat_minor": 0
}
